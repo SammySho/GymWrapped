{
  "nbformat": 4,
  "nbformat_minor": 0,
  "metadata": {
    "colab": {
      "provenance": []
    },
    "kernelspec": {
      "name": "python3",
      "display_name": "Python 3"
    },
    "language_info": {
      "name": "python"
    }
  },
  "cells": [
    {
      "cell_type": "markdown",
      "source": [
        "# Importing Packages"
      ],
      "metadata": {
        "id": "NCCAqi9SC2wq"
      }
    },
    {
      "cell_type": "code",
      "execution_count": 1,
      "metadata": {
        "id": "Fs0B3djYCy05"
      },
      "outputs": [],
      "source": [
        "import pandas as pd\n",
        "import numpy as np\n",
        "from datetime import datetime\n",
        "from google.colab import drive"
      ]
    },
    {
      "cell_type": "markdown",
      "source": [
        "# Mounting Drive"
      ],
      "metadata": {
        "id": "3C_Pc-juDbiv"
      }
    },
    {
      "cell_type": "code",
      "source": [
        "drive.mount('/content/drive/')"
      ],
      "metadata": {
        "colab": {
          "base_uri": "https://localhost:8080/"
        },
        "id": "i7EkBQ-RC0XI",
        "outputId": "8f2bbd2f-eb87-4eb4-c295-ff0d50cf860e"
      },
      "execution_count": 2,
      "outputs": [
        {
          "output_type": "stream",
          "name": "stdout",
          "text": [
            "Mounted at /content/drive/\n"
          ]
        }
      ]
    },
    {
      "cell_type": "markdown",
      "source": [
        "# Importing File"
      ],
      "metadata": {
        "id": "RFPFlsPGDOG_"
      }
    },
    {
      "cell_type": "code",
      "source": [
        "location = '/content/drive/My Drive/Gym'\n",
        "file_path = location+\"/strong.csv\"\n",
        "gym_data = pd.read_csv(file_path)"
      ],
      "metadata": {
        "id": "DZnZ7unEDPmE"
      },
      "execution_count": 3,
      "outputs": []
    },
    {
      "cell_type": "markdown",
      "source": [
        "# Functions"
      ],
      "metadata": {
        "id": "OlrsxYFDC4uC"
      }
    },
    {
      "cell_type": "code",
      "source": [
        "def convert_duration_to_minutes(duration_str):\n",
        "    total_minutes = 0\n",
        "    parts = duration_str.split()\n",
        "    for part in parts:\n",
        "        if 'h' in part:\n",
        "            total_minutes += int(part.strip('h')) * 60\n",
        "        elif 'm' in part:\n",
        "            total_minutes += int(part.strip('m'))\n",
        "    return total_minutes\n",
        "\n",
        "def format_date(input_date):\n",
        "    # Convert the input date string to a datetime object\n",
        "    date_obj = datetime.strptime(input_date, \"%Y-%m-%d %H:%M:%S\")\n",
        "\n",
        "    # Extract day and month information\n",
        "    day = date_obj.day\n",
        "    month = date_obj.strftime(\"%B\")\n",
        "\n",
        "    # Add 'st', 'nd', 'rd', or 'th' to the day based on its value\n",
        "    if 10 <= day % 100 <= 20:\n",
        "        day_suffix = \"th\"\n",
        "    else:\n",
        "        day_suffix = {1: \"st\", 2: \"nd\", 3: \"rd\"}.get(day % 10, \"th\")\n",
        "\n",
        "    # Format the date string\n",
        "    formatted_date = f\"{day}{day_suffix} of {month}\"\n",
        "\n",
        "    return formatted_date\n",
        "\n",
        "def get_first_index(df, col, val):\n",
        "    return df[df[col]==val].index[0]\n",
        "\n",
        "def convert_numeric_to_day(num):\n",
        "    days = [\"Monday\", \"Tuesday\", \"Wednesday\", \"Thursday\", \"Friday\", \"Saturday\", \"Sunday\"]\n",
        "    if 0 <= num <= 6:\n",
        "        return days[num]\n",
        "    else:\n",
        "        return \"Invalid Day\""
      ],
      "metadata": {
        "id": "XYIr0Sm4C5dt"
      },
      "execution_count": 4,
      "outputs": []
    },
    {
      "cell_type": "code",
      "source": [
        "def strong_wrapped(df, year):\n",
        "\n",
        "    # CONVERT DATE TO DATETIME OBJECT\n",
        "    df[\"datetime\"] = pd.to_datetime(df[\"Date\"])\n",
        "\n",
        "    # FILTER BY YEAR\n",
        "    df = df[df[\"datetime\"].dt.year==year]\n",
        "\n",
        "    # TOTAL NUM SESSIONS\n",
        "    num_sessions = len(df[\"Date\"].unique())\n",
        "\n",
        "    # Only proceed if enough data\n",
        "    if num_sessions <= 5:\n",
        "        return \"Please specify a year with more than 5 sessions!\"\n",
        "\n",
        "    # Create list of beginning indexes for each workout\n",
        "    index_list = []\n",
        "    for unique_date in df[\"Date\"].unique():\n",
        "        index_list.append(get_first_index(df, \"Date\", unique_date))\n",
        "    # Convert all durations into minutes\n",
        "    duration_df = df.loc[index_list][\"Duration\"].apply(convert_duration_to_minutes)\n",
        "\n",
        "    # TOTAL DURATION DATA\n",
        "    total_duration =  duration_df.sum()\n",
        "    sandman_equivalents = total_duration / 5.51666666666\n",
        "\n",
        "    # TOTAL WEIGHT DATA\n",
        "    total_weight_moved = df[\"Weight\"].sum()\n",
        "    ronnie_weight_equivalents = np.round((total_weight_moved / 133),2)\n",
        "\n",
        "    # MOST FREQUENT DAY / HOUR\n",
        "    hour_mode = df[\"datetime\"].dt.hour.mode()[0]\n",
        "    favourite_day = convert_numeric_to_day(df[\"datetime\"].dt.weekday.mode()[0])\n",
        "\n",
        "    # EXERCISE FREQ DATA\n",
        "    num_exercises = len(df[\"Exercise Name\"].unique())\n",
        "    val_counts = df[\"Exercise Name\"].value_counts()\n",
        "    avg_ex_sets = val_counts.mean()\n",
        "\n",
        "    # EXERCISE TOTALS BY SETS, WEIGHTS, REPS\n",
        "    exercise_totals = []\n",
        "    for exercise in df[\"Exercise Name\"].unique():\n",
        "        total_sets = len(df[df[\"Exercise Name\"]==exercise])\n",
        "        total_weight = df[df[\"Exercise Name\"]==exercise][\"Weight\"].sum()\n",
        "        total_reps = df[df[\"Exercise Name\"]==exercise][\"Reps\"].sum()\n",
        "        exercise_totals.append([exercise, total_sets, total_weight, total_reps])\n",
        "\n",
        "    # PUT INTO DF\n",
        "    ex_totals_df = pd.DataFrame(exercise_totals, columns=[\"Exercise\", \"Total Sets\", \"Total Weight\", \"Total Reps\"])\n",
        "\n",
        "    # TOP 3 or N exercises by metric, whichever is smaller\n",
        "    n = 3\n",
        "    if len(val_counts)<3:\n",
        "        n = len(val_counts)\n",
        "\n",
        "    # TOP BY SETS\n",
        "    top_n_sets = ex_totals_df.nlargest(3, \"Total Sets\").reset_index(drop=True)\n",
        "    top_set_out = \"\"\n",
        "    for i in range(n):\n",
        "        top_set_out += \"    - \" + top_n_sets[\"Exercise\"].loc[i] + \" for \" + str(top_n_sets[\"Total Sets\"].loc[i]) +\" sets.\\n\"\n",
        "\n",
        "    # TOP BY WEIGHT\n",
        "    top_n_weight = ex_totals_df.nlargest(3, \"Total Weight\").reset_index(drop=True)\n",
        "    top_weight_out = \"\"\n",
        "    for i in range(n):\n",
        "        top_weight_out += \"    - \" + top_n_weight[\"Exercise\"].loc[i] + \" with \" + str(np.round((top_n_weight[\"Total Weight\"].loc[i]/1000),1)) +\" metric tonnes.\\n\"\n",
        "\n",
        "    # TOP BY REPS\n",
        "    top_n_reps = ex_totals_df.nlargest(3, \"Total Weight\").reset_index(drop=True)\n",
        "    top_reps_out = \"\"\n",
        "    for i in range(n):\n",
        "        top_reps_out += \"    - \" + top_n_reps[\"Exercise\"].loc[i] + \" for \" + str(top_n_reps[\"Total Reps\"].loc[i]) +\" reps.\\n\"\n",
        "\n",
        "    # BARBELL PR\n",
        "    barbell_pr = \"\"\n",
        "    barbell_df = df[df['Exercise Name'].str.contains('(Barbell)', regex=False)]\n",
        "    if len(barbell_df) > 0:\n",
        "        max_idx = barbell_df[\"Weight\"].idxmax()\n",
        "        pr_df = barbell_df.loc[max_idx]\n",
        "        pr_name = pr_df[\"Exercise Name\"].replace('(Barbell)', '')\n",
        "        pr_reps = pr_df[\"Reps\"]\n",
        "        if pr_reps > 1:\n",
        "            pr_reps = str(pr_df[\"Reps\"]) + \" reps.\"\n",
        "        else:\n",
        "            pr_reps = str(pr_df[\"Reps\"]) + \" rep.\"\n",
        "        barbell_pr += \"on the \" + format_date(pr_df[\"Date\"]) + \" with \" + str(np.round(pr_df[\"Weight\"],2)) +\"kg in the \" + pr_name + \"for \" + pr_reps\n",
        "\n",
        "    # DUMBBELL PR\n",
        "    dumbbell_pr = \"\"\n",
        "    dumbbell_df = df[df['Exercise Name'].str.contains('(Dumbbell)', regex=False)]\n",
        "    if len(dumbbell_df) > 0:\n",
        "        max_idx = dumbbell_df[\"Weight\"].idxmax()\n",
        "        pr_df = dumbbell_df.loc[max_idx]\n",
        "        pr_name = pr_df[\"Exercise Name\"].replace('(Dumbbell)', '')\n",
        "        pr_reps = pr_df[\"Reps\"]\n",
        "        if pr_reps > 1:\n",
        "            pr_reps = str(pr_df[\"Reps\"]) + \" reps.\"\n",
        "        else:\n",
        "            pr_reps = str(pr_df[\"Reps\"]) + \" rep.\"\n",
        "        dumbbell_pr += \"on the \" + format_date(pr_df[\"Date\"]) + \" with \" + str(np.round(pr_df[\"Weight\"],2)) +\"kg in the \" + pr_name + \"for \" + pr_reps\n",
        "\n",
        "    out_str = \"Welcome to your \"+ str(year)+ \" Strong Wrapped!\\n\"\n",
        "    out_str += \"\\nThis year you recorded \" + str(num_sessions) + \" sessions!\"\n",
        "    out_str += \"\\nMostly you worked out at \" + str(hour_mode) +\":00, and your favourite day for a session was \" + favourite_day\n",
        "    out_str += \"\\nThese sessions add up to a total of \" + str(total_duration) + \" minutes, which is \" +  str(np.round((total_duration/1440),1)) + \" days,\"\n",
        "    out_str += \" or \" + str(np.round(sandman_equivalents,1)) + \" loops of 'Enter Sandman'\\n\"\n",
        "    out_str += \"\\nIn total, you've moved \" + str(np.round((total_weight_moved/1000),1)) + \" metric tonnes, which is equivalent to \" + str(ronnie_weight_equivalents) + \" contest weight Ronnie Coleman's.\"\n",
        "    out_str += \"\\n\\nThis year, you've tried \" + str(num_exercises) + \" different exercises -\"\n",
        "    if num_exercises > 50:\n",
        "        out_str += \" how adventurous.\"\n",
        "    else:\n",
        "        out_str += \" maybe it's time to explore a bit?\"\n",
        "    out_str += \"\\nYou've done each exercise for an average of \" + str(np.round(avg_ex_sets,1)) + \" sets.\"\n",
        "    out_str += \"\\n\\nYour top \" + str(n) + \" exercises this year by number of sets have been: \\n\" + top_set_out\n",
        "    out_str += \"\\nYour top \" + str(n) + \" exercises this year by total weight have been: \\n\" + top_weight_out\n",
        "    out_str += \"\\nYour top \" + str(n) + \" exercises this year by number of reps have been: \\n\" + top_reps_out\n",
        "    out_str += \"\\nYour heaviest barbell PR was \" + barbell_pr\n",
        "    out_str += \"\\nYour heaviest dumbbell PR was \" + dumbbell_pr\n",
        "    return out_str"
      ],
      "metadata": {
        "id": "KyGagMk0C6Z1"
      },
      "execution_count": 5,
      "outputs": []
    },
    {
      "cell_type": "markdown",
      "source": [
        "# Use"
      ],
      "metadata": {
        "id": "Kect_5uIDMJd"
      }
    },
    {
      "cell_type": "code",
      "source": [
        "print(strong_wrapped(gym_data, 2023))"
      ],
      "metadata": {
        "colab": {
          "base_uri": "https://localhost:8080/"
        },
        "id": "Fde52IO4DLrX",
        "outputId": "208f99de-ea18-4afb-a58a-59314834dab5"
      },
      "execution_count": 6,
      "outputs": [
        {
          "output_type": "stream",
          "name": "stdout",
          "text": [
            "Welcome to your 2023 Strong Wrapped!\n",
            "\n",
            "This year you recorded 113 sessions!\n",
            "Mostly you worked out at 13:00, and your favourite day for a session was Saturday\n",
            "These sessions add up to a total of 9939 minutes, which is 6.9 days, or 1801.6 loops of 'Enter Sandman'\n",
            "\n",
            "In total, you've moved 103.7 metric tonnes, which is equivalent to 779.8 contest weight Ronnie Coleman's.\n",
            "\n",
            "This year, you've tried 100 different exercises - how adventurous.\n",
            "You've done each exercise for an average of 27.6 sets.\n",
            "\n",
            "Your top 3 exercises this year by number of sets have been: \n",
            "    - Bench Press (Barbell) for 245 sets.\n",
            "    - Lat Pulldown (Machine) for 180 sets.\n",
            "    - Bent Over One Arm Row (Dumbbell) for 129 sets.\n",
            "\n",
            "Your top 3 exercises this year by total weight have been: \n",
            "    - Bench Press (Barbell) with 13.3 metric tonnes.\n",
            "    - Lat Pulldown (Machine) with 13.1 metric tonnes.\n",
            "    - Chest Fly with 10.3 metric tonnes.\n",
            "\n",
            "Your top 3 exercises this year by number of reps have been: \n",
            "    - Bench Press (Barbell) for 1757 reps.\n",
            "    - Lat Pulldown (Machine) for 1361 reps.\n",
            "    - Chest Fly for 894 reps.\n",
            "\n",
            "Your heaviest barbell PR was on the 11th of May with 140.0kg in the Romanian Deadlift for 3 reps.\n",
            "Your heaviest dumbbell PR was on the 5th of August with 60.0kg in the Bent Over One Arm Row for 1 rep.\n"
          ]
        }
      ]
    }
  ]
}