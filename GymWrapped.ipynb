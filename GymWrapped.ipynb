{
  "nbformat": 4,
  "nbformat_minor": 0,
  "metadata": {
    "colab": {
      "provenance": []
    },
    "kernelspec": {
      "name": "python3",
      "display_name": "Python 3"
    },
    "language_info": {
      "name": "python"
    }
  },
  "cells": [
    {
      "cell_type": "markdown",
      "source": [
        "# Importing Packages"
      ],
      "metadata": {
        "id": "NCCAqi9SC2wq"
      }
    },
    {
      "cell_type": "code",
      "execution_count": 1,
      "metadata": {
        "id": "Fs0B3djYCy05"
      },
      "outputs": [],
      "source": [
        "import pandas as pd\n",
        "import numpy as np\n",
        "from datetime import datetime\n",
        "from google.colab import drive"
      ]
    },
    {
      "cell_type": "code",
      "source": [
        "import seaborn as sns"
      ],
      "metadata": {
        "id": "07aqAKgogl98"
      },
      "execution_count": 2,
      "outputs": []
    },
    {
      "cell_type": "markdown",
      "source": [
        "# Mounting Drive"
      ],
      "metadata": {
        "id": "3C_Pc-juDbiv"
      }
    },
    {
      "cell_type": "code",
      "source": [
        "drive.mount('/content/drive/')"
      ],
      "metadata": {
        "colab": {
          "base_uri": "https://localhost:8080/"
        },
        "id": "i7EkBQ-RC0XI",
        "outputId": "60262453-f368-42cb-d8f0-14499b9f7d0d"
      },
      "execution_count": 3,
      "outputs": [
        {
          "output_type": "stream",
          "name": "stdout",
          "text": [
            "Drive already mounted at /content/drive/; to attempt to forcibly remount, call drive.mount(\"/content/drive/\", force_remount=True).\n"
          ]
        }
      ]
    },
    {
      "cell_type": "markdown",
      "source": [
        "# Functions"
      ],
      "metadata": {
        "id": "OlrsxYFDC4uC"
      }
    },
    {
      "cell_type": "code",
      "source": [
        "def convert_duration_to_minutes(duration_str):\n",
        "    total_minutes = 0\n",
        "    parts = duration_str.split()\n",
        "    for part in parts:\n",
        "        if 'h' in part:\n",
        "            total_minutes += int(part.strip('h')) * 60\n",
        "        elif 'm' in part:\n",
        "            total_minutes += int(part.strip('m'))\n",
        "    return total_minutes\n",
        "\n",
        "def convert_timedelta_to_readable(td):\n",
        "    # Extract hours and minutes from the timedelta\n",
        "    hours, remainder = divmod(td.seconds, 3600)\n",
        "    minutes = remainder // 60\n",
        "\n",
        "    # Create a human-readable string\n",
        "    if hours > 0:\n",
        "        return f\"{hours}h {minutes}m\"\n",
        "    else:\n",
        "        return f\"{minutes}m\"\n",
        "\n",
        "def convert_date_formats(input_date):\n",
        "    parsed_date = datetime.strptime(input_date, \"%d %b %Y, %H:%M\")\n",
        "    formatted_date = parsed_date.strftime(\"%Y-%m-%d %H:%M:00\")\n",
        "    return formatted_date\n",
        "\n",
        "def format_date(input_date):\n",
        "    # Convert the input date string to a datetime object\n",
        "    date_obj = datetime.strptime(input_date, \"%Y-%m-%d %H:%M:%S\")\n",
        "\n",
        "    # Extract day and month information\n",
        "    day = date_obj.day\n",
        "    month = date_obj.strftime(\"%B\")\n",
        "\n",
        "    # Add 'st', 'nd', 'rd', or 'th' to the day based on its value\n",
        "    if 10 <= day % 100 <= 20:\n",
        "        day_suffix = \"th\"\n",
        "    else:\n",
        "        day_suffix = {1: \"st\", 2: \"nd\", 3: \"rd\"}.get(day % 10, \"th\")\n",
        "\n",
        "    # Format the date string\n",
        "    formatted_date = f\"{day}{day_suffix} of {month}\"\n",
        "\n",
        "    return formatted_date\n",
        "\n",
        "def get_first_index(df, col, val):\n",
        "    return df[df[col]==val].index[0]\n",
        "\n",
        "def convert_numeric_to_day(num):\n",
        "    days = [\"Monday\", \"Tuesday\", \"Wednesday\", \"Thursday\", \"Friday\", \"Saturday\", \"Sunday\"]\n",
        "    if 0 <= num <= 6:\n",
        "        return days[num]\n",
        "    else:\n",
        "        return \"Invalid Day\"\n",
        "\n",
        "def convert_numeric_to_month(num):\n",
        "    days = [\"January\", \"February\", \"March\", \"April\", \"May\", \"June\", \"July\", \"August\", \"September\", \"October\", \"Novemer\",\"December\"]\n",
        "    if 0 <= num <= 6:\n",
        "        return days[num]\n",
        "    else:\n",
        "        return \"Invalid Month\"\n",
        "\n",
        "\n",
        "def get_pct_change_periods(data_struc, p=3):\n",
        "    return np.round((pd.DataFrame(data_struc).pct_change(periods=p).mean() * 100)[0],2)"
      ],
      "metadata": {
        "id": "XYIr0Sm4C5dt"
      },
      "execution_count": 58,
      "outputs": []
    },
    {
      "cell_type": "code",
      "source": [
        "def give_top_by_metric(df, ex_totals_df, metric, n, p=3):\n",
        "    if metric != \"Top Progress\":\n",
        "        top_n_metric = ex_totals_df.nlargest(n, metric).reset_index(drop=True)\n",
        "    else:\n",
        "        ex_progress = {}\n",
        "        for exercise in ex_totals_df[\"Exercise\"]:\n",
        "            count, weight_progression, volume_progression, rep_progression = get_total_from_session(df, exercise, \"all\")\n",
        "            weight_change = get_pct_change_periods(weight_progression)\n",
        "            vol_change = get_pct_change_periods(volume_progression)\n",
        "            weight_vol_sum = weight_change + vol_change\n",
        "            if not(np.isinf(weight_change) or np.isnan(weight_change)) and (count>=10) and not(np.isinf(vol_change) or np.isnan(vol_change)):\n",
        "                ex_progress[exercise] = weight_vol_sum\n",
        "\n",
        "        top_5 = sorted(ex_progress, key=ex_progress.get, reverse=True)[:5]\n",
        "\n",
        "    out_string = \"\"\n",
        "\n",
        "    first_str = \" for \"\n",
        "    match metric:\n",
        "        case \"Total Sets\":\n",
        "            second_str = \" sets over \"\n",
        "        case \"Total Weight\":\n",
        "            first = \" with \"\n",
        "            second_str = \" metric tonnes over \"\n",
        "        case \"Total Reps\":\n",
        "            second_str = \" reps over \"\n",
        "\n",
        "    for i in range(n):\n",
        "\n",
        "        if metric == \"Top Progress\":\n",
        "            exercise_name = top_5[i]\n",
        "        else:\n",
        "            exercise_name = top_n_metric[\"Exercise\"].loc[i]\n",
        "\n",
        "        match metric:\n",
        "            case \"Total Sets\":\n",
        "                value = str(top_n_metric[\"Total Sets\"].loc[i])\n",
        "            case \"Total Weight\":\n",
        "                value = str(np.round((top_n_metric[\"Total Weight\"].loc[i]/1000),1))\n",
        "            case \"Total Reps\":\n",
        "                value = str(top_n_metric[\"Total Reps\"].loc[i])\n",
        "\n",
        "\n",
        "        if metric == \"Top Progress\":\n",
        "            # Progression metric\n",
        "            count, weight_progression, volume_progression, rep_progression = get_total_from_session(df, exercise_name, \"all\")\n",
        "            weight_change = get_pct_change_periods(weight_progression)\n",
        "            vol_change = get_pct_change_periods(volume_progression)\n",
        "\n",
        "            out_string += \"    - \" + exercise_name + \", where every \"+str(p)+\" sessions you increased weight by \" + str(weight_change) + \"%, and volume by \" + str(vol_change) +\"%!\\n\"\n",
        "\n",
        "\n",
        "        elif metric == \"Total Occurrences\":\n",
        "\n",
        "            # Total Occurrences tracks progression by session too\n",
        "            count, weight_progression, volume_progression, rep_progression = get_total_from_session(df, exercise_name, \"all\")\n",
        "\n",
        "            weight_change = get_pct_change_periods(weight_progression)\n",
        "            vol_change = get_pct_change_periods(volume_progression)\n",
        "            rep_change = get_pct_change_periods(rep_progression)\n",
        "            if np.isinf(weight_change):\n",
        "                changes_str = \"Every \"+str(p)+\" sessions you increased reps by an average of \" + str(rep_change) + \"%!\\n\"\n",
        "            else:\n",
        "                changes_str = \"Every \"+str(p)+\" sessions you increased max weight moved and total volume by an average of \" + str(weight_change) + \"% and \"+ str(vol_change) + \"%!\\n\"\n",
        "\n",
        "            out_string += \"    - \" + exercise_name + first_str + str(count) + \" sessions. \\n\"#+ changes_str\n",
        "\n",
        "        else:\n",
        "            count = get_total_from_session(df, exercise_name, \"count\")\n",
        "            out_string += \"    - \" + exercise_name + first_str + value + second_str + str(count) + \" sessions.\\n\"\n",
        "\n",
        "    return out_string"
      ],
      "metadata": {
        "id": "6Q-SFVRp3GXB"
      },
      "execution_count": 59,
      "outputs": []
    },
    {
      "cell_type": "code",
      "source": [
        "def get_total_from_session(df, exercise, r_type=\"all\"):\n",
        "    exercise_df = df[df['Exercise Name']==exercise]\n",
        "    prog_dates = exercise_df[\"Date\"].unique()\n",
        "\n",
        "    count = len(prog_dates)\n",
        "\n",
        "    if r_type==\"count\":\n",
        "        return count\n",
        "\n",
        "    else:\n",
        "        weight_progression = []\n",
        "        volume_progression = []\n",
        "        rep_progression = []\n",
        "\n",
        "        for date_i in prog_dates:\n",
        "            time_i = exercise_df[exercise_df[\"Date\"]==date_i]\n",
        "            weight_progression.append(time_i[\"Weight\"].max())\n",
        "            volume_progression.append((time_i[\"Weight\"] * time_i[\"Reps\"]).sum())\n",
        "            rep_progression.append(time_i[\"Reps\"].sum())\n",
        "\n",
        "        return count, weight_progression, volume_progression, rep_progression"
      ],
      "metadata": {
        "id": "W_nlpXfP05r_"
      },
      "execution_count": 60,
      "outputs": []
    },
    {
      "cell_type": "code",
      "source": [
        "def strong_wrapped(year, n=False, p=3, app=\"Strong\"):\n",
        "\n",
        "    if (app == \"Hevy\"):\n",
        "        file_path = location+\"/workout_data.csv\"\n",
        "        df = pd.read_csv(file_path)\n",
        "        # Managing column differences between app data outputs\n",
        "        df.columns = [\"Workout Name\", \"Date\", \"End Time\", \"Workout Notes\", \"Exercise Name\", \"superset_id\", \"Notes\", \"Set Order\", \"set_type\", \"Weight\", \"Reps\", \"Distance\", \"Seconds\", \"RPE\"]\n",
        "        df[\"Date\"] = df[\"Date\"].apply(convert_date_formats)\n",
        "        df[\"End Time\"] = df[\"End Time\"].apply(convert_date_formats)\n",
        "        df[\"Duration\"] = (pd.to_datetime(df[\"End Time\"]) - pd.to_datetime(df[\"Date\"]))\n",
        "        df[\"Duration\"] = df[\"Duration\"].apply(convert_timedelta_to_readable)\n",
        "    else:\n",
        "        file_path = location+\"/strong.csv\"\n",
        "        df = pd.read_csv(file_path)\n",
        "\n",
        "    # CONVERT DATE TO DATETIME OBJECT\n",
        "    df[\"datetime\"] = pd.to_datetime(df[\"Date\"])\n",
        "\n",
        "    # FILTER BY YEAR\n",
        "    df = df[df[\"datetime\"].dt.year==year]\n",
        "\n",
        "    # TOTAL NUM SESSIONS\n",
        "    num_sessions = len(df[\"Date\"].unique())\n",
        "    num_reps = df[\"Reps\"].sum()\n",
        "    vatican_equivalents = num_reps // 825\n",
        "\n",
        "    # Only proceed if enough data\n",
        "    if num_sessions <= 5:\n",
        "        return \"Please specify a year with more than 5 sessions!\"\n",
        "\n",
        "    # Create list of beginning indexes for each workout\n",
        "    index_list = []\n",
        "    for unique_date in df[\"Date\"].unique():\n",
        "        index_list.append(get_first_index(df, \"Date\", unique_date))\n",
        "    # Convert all durations into minutes\n",
        "    if app == \"Hevy\":\n",
        "        duration_df = df.loc[index_list][\"Duration\"].astype(str).apply(convert_duration_to_minutes)\n",
        "    else:\n",
        "        duration_df = df.loc[index_list][\"Duration\"].apply(convert_duration_to_minutes)\n",
        "\n",
        "    # Get unique months that have been recorded\n",
        "    date_months = df.loc[index_list][\"datetime\"].dt.month\n",
        "    # Get unique weekdays that have been recorded\n",
        "    date_days = df.loc[index_list][\"datetime\"].dt.weekday\n",
        "\n",
        "    value_counts_ = date_months.value_counts()\n",
        "    # Monthly activity graph?\n",
        "    avg_monthly = 0\n",
        "    top_month_str = \"\"\n",
        "    top_month_value = 0\n",
        "    for i in range(1,len(date_months.unique())):\n",
        "        # Loop through unique values\n",
        "        if i in date_months.unique():\n",
        "            matched_activites = df[df[\"datetime\"].dt.month == i]\n",
        "            this_value = value_counts_[i]\n",
        "            #print(\"Found this many activities in month\", i)\n",
        "            #print(this_value)\n",
        "            avg_monthly += this_value\n",
        "            if this_value > top_month_value:\n",
        "                top_month_value = this_value\n",
        "                top_month_str = convert_numeric_to_month(i)\n",
        "\n",
        "    avg_monthly = avg_monthly/len(date_months.unique())\n",
        "\n",
        "    # TOTAL DURATION DATA\n",
        "    total_duration =  duration_df.sum()\n",
        "    sandman_equivalents = total_duration / 5.51666666666\n",
        "    lotr_equivalents = total_duration / 1171\n",
        "    num_blinks = total_duration * 15\n",
        "\n",
        "    # TOTAL WEIGHT DATA\n",
        "    total_weight_moved = (df[\"Weight\"] * df[\"Reps\"]).sum()\n",
        "    ronnie_weight_equivalents = np.round((total_weight_moved / 133),1)\n",
        "    belgian_blue_equivalents = np.round((total_weight_moved / 1200),1)\n",
        "\n",
        "    # MOST FREQUENT DAY / HOUR\n",
        "    hour_mode = df[\"datetime\"].dt.hour.mode()[0]\n",
        "    favourite_day = convert_numeric_to_day(df[\"datetime\"].dt.weekday.mode()[0])\n",
        "\n",
        "    # EXERCISE FREQ DATA\n",
        "    num_exercises = len(df[\"Exercise Name\"].unique())\n",
        "    val_counts = df[\"Exercise Name\"].value_counts()\n",
        "    avg_ex_sets = val_counts.mean()\n",
        "\n",
        "    # EXERCISE TOTALS BY SETS, WEIGHTS, REPS\n",
        "    exercise_totals = []\n",
        "    for exercise in df[\"Exercise Name\"].unique():\n",
        "        total_sets = len(df[df[\"Exercise Name\"]==exercise])\n",
        "        total_weight = (df[df[\"Exercise Name\"]==exercise][\"Weight\"] * df[df[\"Exercise Name\"]==exercise][\"Reps\"]).sum()\n",
        "        total_reps = df[df[\"Exercise Name\"]==exercise][\"Reps\"].sum()\n",
        "        total_occurrences = get_total_from_session(df, exercise, r_type=\"count\")\n",
        "        exercise_totals.append([exercise, total_sets, total_weight, total_reps, total_occurrences])\n",
        "\n",
        "    # PUT INTO DF\n",
        "    ex_totals_df = pd.DataFrame(exercise_totals, columns=[\"Exercise\", \"Total Sets\", \"Total Weight\", \"Total Reps\", \"Total Occurrences\"])\n",
        "\n",
        "    # TOP 3 or N exercises by metric, whichever is smaller\n",
        "    if n == False:\n",
        "        n = 3\n",
        "        if len(val_counts)<3:\n",
        "            n = len(val_counts)\n",
        "\n",
        "    # Get metrics such as most common by total sets, total weight, total reps\n",
        "    top_set_out = give_top_by_metric(df, ex_totals_df, \"Total Sets\", n, p)\n",
        "    top_weight_out = give_top_by_metric(df, ex_totals_df, \"Total Weight\", n, p)\n",
        "    top_reps_out = give_top_by_metric(df, ex_totals_df, \"Total Reps\", n, p)\n",
        "    top_freq_out = give_top_by_metric(df, ex_totals_df, \"Total Occurrences\", n, p)\n",
        "    top_progress_out = give_top_by_metric(df, ex_totals_df, \"Top Progress\", n, p)\n",
        "\n",
        "    avg_ex_freq = ex_totals_df[\"Total Occurrences\"].mean()\n",
        "\n",
        "    # BARBELL PR\n",
        "    barbell_pr = \"\"\n",
        "    barbell_df = df[df['Exercise Name'].str.contains('Barbell', regex=False)]\n",
        "    if len(barbell_df) > 0:\n",
        "        max_idx = barbell_df[\"Weight\"].idxmax()\n",
        "        pr_df = barbell_df.loc[max_idx]\n",
        "        pr_name = pr_df[\"Exercise Name\"].replace('Barbell', '')\n",
        "        pr_reps = pr_df[\"Reps\"]\n",
        "        if pr_reps > 1:\n",
        "            pr_reps = str(pr_df[\"Reps\"]) + \" reps.\"\n",
        "        else:\n",
        "            pr_reps = str(pr_df[\"Reps\"]) + \" rep.\"\n",
        "        barbell_pr += \"on the \" + format_date(pr_df[\"Date\"]) + \" with \" + str(np.round(pr_df[\"Weight\"],2)) +\"kg in the \" + pr_name + \" for \" + pr_reps\n",
        "\n",
        "    # DUMBBELL PR\n",
        "    dumbbell_pr = \"\"\n",
        "    dumbbell_df = df[df['Exercise Name'].str.contains('Dumbbell', regex=False)]\n",
        "    if len(dumbbell_df) > 0:\n",
        "        max_idx = dumbbell_df[\"Weight\"].idxmax()\n",
        "        pr_df = dumbbell_df.loc[max_idx]\n",
        "        pr_name = pr_df[\"Exercise Name\"].replace('Dumbbell', '')\n",
        "        pr_reps = pr_df[\"Reps\"]\n",
        "        if pr_reps > 1:\n",
        "            pr_reps = str(pr_df[\"Reps\"]) + \" reps.\"\n",
        "        else:\n",
        "            pr_reps = str(pr_df[\"Reps\"]) + \" rep.\"\n",
        "        dumbbell_pr += \"on the \" + format_date(pr_df[\"Date\"]) + \" with \" + str(np.round(pr_df[\"Weight\"],2)) +\"kg in the \" + pr_name + \" for \" + pr_reps\n",
        "\n",
        "\n",
        "\n",
        "    out_str = \"Welcome to your \"+ str(year)+ \" Gym Wrapped!\\n\"\n",
        "    out_str += \"\\nThis year you recorded \" + str(num_sessions) + \" sessions!\"\n",
        "    out_str += \"\\nOn average, this was \" + str(np.round(avg_monthly,1)) + \" sessions per month, but in \" + str(top_month_str) + \" you managed \" + str(top_month_value) +\".\"\n",
        "\n",
        "    out_str += \"\\nIn 2023 you recorded a total of \" + str(num_reps) + \" reps, which is the same as each citizen of the vatican city performing \"+ str(vatican_equivalents) + \" reps.\\n\"\n",
        "    out_str += \"\\nMostly you worked out at \" + str(hour_mode) +\":00, and your favourite day for a session was \" + favourite_day\n",
        "    out_str += \"\\nThese sessions add up to a total of \" + str(total_duration) + \" minutes, which is \" +  str(np.round((total_duration/1440),1)) + \" days,\"\n",
        "    out_str += \" or \" + str(np.round(sandman_equivalents,1)) + \" loops of 'Enter Sandman' or \"+str(np.round(lotr_equivalents,1)) +\" entire LOTR marathons.\"\n",
        "    out_str += \"\\n\\nYou've probably blinked around \" + str(np.round(num_blinks,1))+ \" times during your sessions.\\n\"\n",
        "    out_str += \"\\nIn total, you've moved \" + str(np.round((total_weight_moved/1000),1)) + \" metric tonnes, which is equivalent to \" + str(ronnie_weight_equivalents) + \" contest weight Ronnie Coleman's\"\n",
        "    out_str += \" or \" + str(belgian_blue_equivalents) + \" adult male Belgian Blues's.\"\n",
        "    out_str += \"\\n\\nThis year, you've tried \" + str(num_exercises) + \" different exercises -\"\n",
        "    if num_exercises > 50:\n",
        "        out_str += \" how adventurous.\"\n",
        "    else:\n",
        "        out_str += \" maybe it's time to explore a bit?\"\n",
        "    # Old way of phrasing this, not sure it makes as much sense\n",
        "    #out_str += \"\\nYou've done each exercise \" +str(np.round(avg_ex_freq,1)) + \" times on average, over \" + str(np.round(avg_ex_sets,1)) + \" sets.\"\n",
        "    out_str += \"\\nYou've done each exercise \" +str(np.round(avg_ex_freq,1)) + \" times on average.\"\n",
        "    out_str += \"\\n\\nYour top \" + str(n) + \" exercises this year by total number of sets have been: \\n\" + top_set_out\n",
        "    out_str += \"\\nYour top \" + str(n) + \" exercises this year by total weight have been: \\n\" + top_weight_out\n",
        "    out_str += \"\\nYour top \" + str(n) + \" exercises this year by total number of reps have been: \\n\" + top_reps_out\n",
        "    out_str += \"\\nYour top \" + str(n) + \" exercises favourite exercises this year have been: \\n\" + top_freq_out\n",
        "    out_str += \"\\nYour top \" + str(n) + \" exercises this year by progress (with a minimum of 10 occurrences) have been: \\n\" + top_progress_out\n",
        "    out_str += \"\\nYour heaviest barbell PR was \" + barbell_pr\n",
        "    out_str += \"\\nYour heaviest dumbbell PR was \" + dumbbell_pr\n",
        "    return out_str"
      ],
      "metadata": {
        "id": "KyGagMk0C6Z1"
      },
      "execution_count": 88,
      "outputs": []
    },
    {
      "cell_type": "markdown",
      "source": [
        "# Importing File"
      ],
      "metadata": {
        "id": "RFPFlsPGDOG_"
      }
    },
    {
      "cell_type": "code",
      "source": [
        "location = '/content/drive/My Drive/Gym'\n",
        "file_path = location+\"/strong.csv\"\n",
        "file_path = location+\"/workout_data.csv\"\n",
        "gym_data = pd.read_csv(file_path)"
      ],
      "metadata": {
        "id": "DZnZ7unEDPmE"
      },
      "execution_count": 89,
      "outputs": []
    },
    {
      "cell_type": "markdown",
      "source": [
        "# Use"
      ],
      "metadata": {
        "id": "Kect_5uIDMJd"
      }
    },
    {
      "cell_type": "code",
      "source": [
        "out_str = strong_wrapped(2023, n=3, p=2, app=\"Hevy\")"
      ],
      "metadata": {
        "id": "Fde52IO4DLrX"
      },
      "execution_count": 90,
      "outputs": []
    },
    {
      "cell_type": "code",
      "source": [
        "print(out_str)"
      ],
      "metadata": {
        "id": "ycfJKe4CIozT",
        "colab": {
          "base_uri": "https://localhost:8080/"
        },
        "outputId": "9e15f3d2-16c2-4c5f-f63c-080dd44f3a4d"
      },
      "execution_count": 91,
      "outputs": [
        {
          "output_type": "stream",
          "name": "stdout",
          "text": [
            "Welcome to your 2023 Gym Wrapped!\n",
            "\n",
            "This year you recorded 117 sessions!\n",
            "On average, this was 10.8 sessions per month, but in May you managed 20.\n",
            "In 2023 you recorded a total of 27072.0 reps, which is the same as each citizen of the vatican city performing 32.0 reps.\n",
            "\n",
            "Mostly you worked out at 14:00, and your favourite day for a session was Saturday\n",
            "These sessions add up to a total of 10258 minutes, which is 7.1 days, or 1859.5 loops of 'Enter Sandman' or 8.8 entire LOTR marathons.\n",
            "\n",
            "You've probably blinked around 153870 times during your sessions.\n",
            "\n",
            "In total, you've moved 950.8 metric tonnes, which is equivalent to 7149.2 contest weight Ronnie Coleman's or 792.4 adult male Belgian Blues's.\n",
            "\n",
            "This year, you've tried 102 different exercises - how adventurous.\n",
            "You've done each exercise 7.8 times on average.\n",
            "\n",
            "Your top 3 exercises this year by total number of sets have been: \n",
            "    - Bench Press (Barbell) for 250 sets over 42 sessions.\n",
            "    - Lat Pulldown (Machine) for 181 sets over 33 sessions.\n",
            "    - Dumbbell Row for 132 sets over 35 sessions.\n",
            "\n",
            "Your top 3 exercises this year by total weight have been: \n",
            "    - Seated Calf Raise for 97.0 metric tonnes over 16 sessions.\n",
            "    - Lat Pulldown (Machine) for 89.3 metric tonnes over 33 sessions.\n",
            "    - Chest Fly (Machine) for 85.9 metric tonnes over 32 sessions.\n",
            "\n",
            "Your top 3 exercises this year by total number of reps have been: \n",
            "    - Bench Press (Barbell) for 1799.0 reps over 42 sessions.\n",
            "    - Lat Pulldown (Machine) for 1405.0 reps over 33 sessions.\n",
            "    - Dumbbell Row for 1148.0 reps over 35 sessions.\n",
            "\n",
            "Your top 3 exercises favourite exercises this year have been: \n",
            "    - Bench Press (Barbell) for 42 sessions. \n",
            "    - Dumbbell Row for 35 sessions. \n",
            "    - Lat Pulldown (Machine) for 33 sessions. \n",
            "\n",
            "Your top 3 exercises this year by progress (with a minimum of 10 occurrences) have been: \n",
            "    - Leg Press Horizontal (Machine), where every 2 sessions you increased weight by 7.89%, and volume by 45.53%!\n",
            "    - Triceps Push down (Cable - Rope), where every 2 sessions you increased weight by 12.02%, and volume by 10.9%!\n",
            "    - Shoulder Press (Dumbbell), where every 2 sessions you increased weight by 4.25%, and volume by 16.58%!\n",
            "\n",
            "Your heaviest barbell PR was on the 11th of May with 140.0kg in the Romanian Deadlift () for 3.0 reps.\n",
            "Your heaviest dumbbell PR was on the 5th of August with 60.0kg in the  Row for 1.0 rep.\n"
          ]
        }
      ]
    },
    {
      "cell_type": "code",
      "source": [],
      "metadata": {
        "id": "F0X1fO2qgHCf"
      },
      "execution_count": 72,
      "outputs": []
    }
  ]
}